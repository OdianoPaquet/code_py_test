{
 "cells": [
  {
   "cell_type": "markdown",
   "id": "72792707",
   "metadata": {},
   "source": [
    "Salut c'est odiano"
   ]
  },
  {
   "cell_type": "code",
   "execution_count": null,
   "id": "b788b1e3",
   "metadata": {},
   "outputs": [],
   "source": [
    "a = 0\n",
    "b = 2 \n",
    "c = a+b\n",
    "print(c)"
   ]
  }
 ],
 "metadata": {
  "kernelspec": {
   "display_name": "Python 3 (ipykernel)",
   "language": "python",
   "name": "python3"
  }
 },
 "nbformat": 4,
 "nbformat_minor": 5
}
